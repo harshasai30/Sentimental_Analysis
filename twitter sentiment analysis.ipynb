{
 "cells": [
  {
   "cell_type": "code",
   "execution_count": null,
   "metadata": {},
   "outputs": [
    {
     "ename": "",
     "evalue": "",
     "output_type": "error",
     "traceback": [
      "\u001b[1;31mRunning cells with 'test (Python 3.12.4)' requires the ipykernel package.\n",
      "\u001b[1;31mRun the following command to install 'ipykernel' into the Python environment. \n",
      "\u001b[1;31mCommand: 'c:/Users/yaswanth/Envs/test/Scripts/python.exe -m pip install ipykernel -U --force-reinstall'"
     ]
    }
   ],
   "source": [
    "import pandas as pd\n",
    "import re\n",
    "import nltk\n",
    "from nltk.corpus import stopwords\n",
    "from nltk.stem import WordNetLemmatizer\n",
    "from vaderSentiment.vaderSentiment import SentimentIntensityAnalyzer\n",
    "import matplotlib.pyplot as plt\n",
    "import seaborn as sns\n",
    "from datetime import datetime\n",
    "\n",
    "# Install required packages if needed\n",
    "# !pip install pandas nltk vaderSentiment matplotlib seaborn\n",
    "nltk.download('stopwords')\n",
    "nltk.download('wordnet')"
   ]
  },
  {
   "cell_type": "code",
   "execution_count": null,
   "metadata": {},
   "outputs": [],
   "source": [
    "# Load dataset\n",
    "df = pd.read_csv('twitter_dataset.csv')\n",
    "\n",
    "# Convert timestamp to datetime\n",
    "df['Timestamp'] = pd.to_datetime(df['Timestamp'])\n",
    "\n",
    "# Text cleaning function\n",
    "def clean_text(text):\n",
    "    # Remove mentions, URLs, and special characters\n",
    "    text = re.sub(r'@[A-Za-z0-9]+', '', text)  # Mentions\n",
    "    text = re.sub(r'https?://[A-Za-z0-9./]+', '', text)  # URLs\n",
    "    text = re.sub(r'[^\\w\\s]', ' ', text)  # Special characters\n",
    "    text = re.sub(r'\\d+', '', text)  # Numbers\n",
    "    return text.strip().lower()\n",
    "\n",
    "# Apply cleaning\n",
    "df['Clean_Text'] = df['Text'].apply(clean_text)\n",
    "\n",
    "# Text preprocessing\n",
    "lemmatizer = WordNetLemmatizer()\n",
    "stop_words = set(stopwords.words('english'))\n",
    "\n",
    "def preprocess_text(text):\n",
    "    tokens = text.split()\n",
    "    tokens = [lemmatizer.lemmatize(token) for token in tokens if token not in stop_words]\n",
    "    return ' '.join(tokens)\n",
    "\n",
    "df['Processed_Text'] = df['Clean_Text'].apply(preprocess_text)"
   ]
  },
  {
   "cell_type": "code",
   "execution_count": null,
   "metadata": {},
   "outputs": [],
   "source": [
    "# Initialize sentiment analyzer\n",
    "analyzer = SentimentIntensityAnalyzer()\n",
    "\n",
    "# Get sentiment scores\n",
    "def get_sentiment(text):\n",
    "    scores = analyzer.polarity_scores(text)\n",
    "    return scores['compound']  # Returns score between -1 (negative) and +1 (positive)\n",
    "\n",
    "df['Sentiment_Score'] = df['Processed_Text'].apply(get_sentiment)\n",
    "\n",
    "# Categorize sentiment\n",
    "def categorize_sentiment(score):\n",
    "    if score >= 0.05:\n",
    "        return 'Positive'\n",
    "    elif score <= -0.05:\n",
    "        return 'Negative'\n",
    "    else:\n",
    "        return 'Neutral'\n",
    "\n",
    "df['Sentiment'] = df['Sentiment_Score'].apply(categorize_sentiment)"
   ]
  },
  {
   "cell_type": "code",
   "execution_count": null,
   "metadata": {},
   "outputs": [],
   "source": [
    "# Time-based sentiment trends\n",
    "df['Date'] = df['Timestamp'].dt.date\n",
    "daily_sentiment = df.groupby('Date')['Sentiment_Score'].mean().reset_index()\n",
    "\n",
    "plt.figure(figsize=(12, 6))\n",
    "sns.lineplot(x='Date', y='Sentiment_Score', data=daily_sentiment)\n",
    "plt.title('Daily Sentiment Trend')\n",
    "plt.xlabel('Date')\n",
    "plt.ylabel('Average Sentiment Score')\n",
    "plt.xticks(rotation=45)\n",
    "plt.tight_layout()\n",
    "plt.show()\n",
    "\n",
    "# Sentiment distribution\n",
    "plt.figure(figsize=(8, 6))\n",
    "sns.countplot(\n",
    "    x='Sentiment',\n",
    "    data=df,\n",
    "    order=['Positive', 'Negative', 'Neutral'],\n",
    "    palette=['green', 'red', 'blue'],\n",
    "    hue='Sentiment',\n",
    "    legend=False\n",
    ")\n",
    "plt.title('Sentiment Distribution')\n",
    "plt.show()\n"
   ]
  }
 ],
 "metadata": {
  "kernelspec": {
   "display_name": "test",
   "language": "python",
   "name": "python3"
  },
  "language_info": {
   "codemirror_mode": {
    "name": "ipython",
    "version": 3
   },
   "file_extension": ".py",
   "mimetype": "text/x-python",
   "name": "python",
   "nbconvert_exporter": "python",
   "pygments_lexer": "ipython3",
   "version": "3.12.4"
  }
 },
 "nbformat": 4,
 "nbformat_minor": 2
}
